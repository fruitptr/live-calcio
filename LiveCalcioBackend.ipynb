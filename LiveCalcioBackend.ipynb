{
  "nbformat": 4,
  "nbformat_minor": 0,
  "metadata": {
    "colab": {
      "provenance": [],
      "gpuType": "T4"
    },
    "kernelspec": {
      "name": "python3",
      "display_name": "Python 3"
    },
    "language_info": {
      "name": "python"
    },
    "accelerator": "GPU"
  },
  "cells": [
    {
      "cell_type": "code",
      "source": [
        "from google.colab import drive\n",
        "\n",
        "drive.mount('/content/drive')"
      ],
      "metadata": {
        "colab": {
          "base_uri": "https://localhost:8080/"
        },
        "id": "jJu15Em4e5Al",
        "outputId": "5991820a-8c51-4beb-e18c-031d14a0ea8c"
      },
      "execution_count": null,
      "outputs": [
        {
          "output_type": "stream",
          "name": "stdout",
          "text": [
            "Drive already mounted at /content/drive; to attempt to forcibly remount, call drive.mount(\"/content/drive\", force_remount=True).\n"
          ]
        }
      ]
    },
    {
      "cell_type": "code",
      "source": [
        "!pip install ultralytics -q"
      ],
      "metadata": {
        "id": "14jW903I_eRy"
      },
      "execution_count": null,
      "outputs": []
    },
    {
      "cell_type": "code",
      "source": [
        "!pip install tensorflow -q"
      ],
      "metadata": {
        "id": "Ao7P7gpRu8xr"
      },
      "execution_count": null,
      "outputs": []
    },
    {
      "cell_type": "code",
      "source": [
        "!pip install torch -q"
      ],
      "metadata": {
        "id": "8FdU8SEGvB8g"
      },
      "execution_count": null,
      "outputs": []
    },
    {
      "cell_type": "code",
      "source": [
        "!nvidia-smi"
      ],
      "metadata": {
        "colab": {
          "base_uri": "https://localhost:8080/"
        },
        "id": "qw2wXKh7_ki-",
        "outputId": "b1dcd01f-8e16-4160-f6c3-a3ccf3575f5e"
      },
      "execution_count": null,
      "outputs": [
        {
          "output_type": "stream",
          "name": "stdout",
          "text": [
            "Wed Feb  7 14:31:25 2024       \n",
            "+---------------------------------------------------------------------------------------+\n",
            "| NVIDIA-SMI 535.104.05             Driver Version: 535.104.05   CUDA Version: 12.2     |\n",
            "|-----------------------------------------+----------------------+----------------------+\n",
            "| GPU  Name                 Persistence-M | Bus-Id        Disp.A | Volatile Uncorr. ECC |\n",
            "| Fan  Temp   Perf          Pwr:Usage/Cap |         Memory-Usage | GPU-Util  Compute M. |\n",
            "|                                         |                      |               MIG M. |\n",
            "|=========================================+======================+======================|\n",
            "|   0  Tesla T4                       Off | 00000000:00:04.0 Off |                    0 |\n",
            "| N/A   56C    P0              29W /  70W |    719MiB / 15360MiB |      0%      Default |\n",
            "|                                         |                      |                  N/A |\n",
            "+-----------------------------------------+----------------------+----------------------+\n",
            "                                                                                         \n",
            "+---------------------------------------------------------------------------------------+\n",
            "| Processes:                                                                            |\n",
            "|  GPU   GI   CI        PID   Type   Process name                            GPU Memory |\n",
            "|        ID   ID                                                             Usage      |\n",
            "|=======================================================================================|\n",
            "+---------------------------------------------------------------------------------------+\n"
          ]
        }
      ]
    },
    {
      "cell_type": "code",
      "source": [
        "from IPython import display\n",
        "display.clear_output()\n",
        "\n",
        "import ultralytics\n",
        "ultralytics.checks()"
      ],
      "metadata": {
        "colab": {
          "base_uri": "https://localhost:8080/"
        },
        "id": "8huT7cI0AEVN",
        "outputId": "65d0d2b3-94bf-471b-eea1-c3e744d42cc9"
      },
      "execution_count": null,
      "outputs": [
        {
          "output_type": "stream",
          "name": "stdout",
          "text": [
            "Ultralytics YOLOv8.1.10 🚀 Python-3.10.12 torch-2.1.0+cu121 CUDA:0 (Tesla T4, 15102MiB)\n",
            "Setup complete ✅ (2 CPUs, 12.7 GB RAM, 26.5/78.2 GB disk)\n"
          ]
        }
      ]
    },
    {
      "cell_type": "code",
      "source": [
        "from ultralytics import YOLO\n",
        "\n",
        "from IPython.display import display, Image"
      ],
      "metadata": {
        "id": "5PbYNT82AK9W"
      },
      "execution_count": null,
      "outputs": []
    },
    {
      "cell_type": "code",
      "source": [
        "model = YOLO('yolov8m.pt')\n",
        "results = model.track(source='/content/drive/MyDrive/unitedvsvilla720p.mp4', conf=0.25, save=True, tracker='bytetrack.yaml', classes=0)"
      ],
      "metadata": {
        "colab": {
          "base_uri": "https://localhost:8080/"
        },
        "id": "NPHDKbdEAxjM",
        "outputId": "987237b3-b647-4e2f-db0b-97a61d478d67"
      },
      "execution_count": null,
      "outputs": [
        {
          "output_type": "stream",
          "name": "stdout",
          "text": [
            "\n",
            "\n",
            "WARNING ⚠️ inference results will accumulate in RAM unless `stream=True` is passed, causing potential out-of-memory\n",
            "errors for large sources or long-running streams and videos. See https://docs.ultralytics.com/modes/predict/ for help.\n",
            "\n",
            "Example:\n",
            "    results = model(source=..., stream=True)  # generator of Results objects\n",
            "    for r in results:\n",
            "        boxes = r.boxes  # Boxes object for bbox outputs\n",
            "        masks = r.masks  # Masks object for segment masks outputs\n",
            "        probs = r.probs  # Class probabilities for classification outputs\n",
            "\n",
            "video 1/1 (1/160) /content/drive/MyDrive/unitedvsvilla720p.mp4: 384x640 12 persons, 26.6ms\n",
            "video 1/1 (2/160) /content/drive/MyDrive/unitedvsvilla720p.mp4: 384x640 12 persons, 25.8ms\n",
            "video 1/1 (3/160) /content/drive/MyDrive/unitedvsvilla720p.mp4: 384x640 12 persons, 25.5ms\n",
            "video 1/1 (4/160) /content/drive/MyDrive/unitedvsvilla720p.mp4: 384x640 12 persons, 25.6ms\n",
            "video 1/1 (5/160) /content/drive/MyDrive/unitedvsvilla720p.mp4: 384x640 12 persons, 25.5ms\n",
            "video 1/1 (6/160) /content/drive/MyDrive/unitedvsvilla720p.mp4: 384x640 12 persons, 26.2ms\n",
            "video 1/1 (7/160) /content/drive/MyDrive/unitedvsvilla720p.mp4: 384x640 12 persons, 25.7ms\n",
            "video 1/1 (8/160) /content/drive/MyDrive/unitedvsvilla720p.mp4: 384x640 12 persons, 21.1ms\n",
            "video 1/1 (9/160) /content/drive/MyDrive/unitedvsvilla720p.mp4: 384x640 13 persons, 20.7ms\n",
            "video 1/1 (10/160) /content/drive/MyDrive/unitedvsvilla720p.mp4: 384x640 13 persons, 21.5ms\n",
            "video 1/1 (11/160) /content/drive/MyDrive/unitedvsvilla720p.mp4: 384x640 14 persons, 22.5ms\n",
            "video 1/1 (12/160) /content/drive/MyDrive/unitedvsvilla720p.mp4: 384x640 13 persons, 20.3ms\n",
            "video 1/1 (13/160) /content/drive/MyDrive/unitedvsvilla720p.mp4: 384x640 14 persons, 20.2ms\n",
            "video 1/1 (14/160) /content/drive/MyDrive/unitedvsvilla720p.mp4: 384x640 14 persons, 20.3ms\n",
            "video 1/1 (15/160) /content/drive/MyDrive/unitedvsvilla720p.mp4: 384x640 14 persons, 20.3ms\n",
            "video 1/1 (16/160) /content/drive/MyDrive/unitedvsvilla720p.mp4: 384x640 14 persons, 20.7ms\n",
            "video 1/1 (17/160) /content/drive/MyDrive/unitedvsvilla720p.mp4: 384x640 14 persons, 19.9ms\n",
            "video 1/1 (18/160) /content/drive/MyDrive/unitedvsvilla720p.mp4: 384x640 14 persons, 20.4ms\n",
            "video 1/1 (19/160) /content/drive/MyDrive/unitedvsvilla720p.mp4: 384x640 14 persons, 19.9ms\n",
            "video 1/1 (20/160) /content/drive/MyDrive/unitedvsvilla720p.mp4: 384x640 14 persons, 20.5ms\n",
            "video 1/1 (21/160) /content/drive/MyDrive/unitedvsvilla720p.mp4: 384x640 15 persons, 20.1ms\n",
            "video 1/1 (22/160) /content/drive/MyDrive/unitedvsvilla720p.mp4: 384x640 15 persons, 21.1ms\n",
            "video 1/1 (23/160) /content/drive/MyDrive/unitedvsvilla720p.mp4: 384x640 15 persons, 20.2ms\n",
            "video 1/1 (24/160) /content/drive/MyDrive/unitedvsvilla720p.mp4: 384x640 15 persons, 25.4ms\n",
            "video 1/1 (25/160) /content/drive/MyDrive/unitedvsvilla720p.mp4: 384x640 15 persons, 29.5ms\n",
            "video 1/1 (26/160) /content/drive/MyDrive/unitedvsvilla720p.mp4: 384x640 15 persons, 22.7ms\n",
            "video 1/1 (27/160) /content/drive/MyDrive/unitedvsvilla720p.mp4: 384x640 15 persons, 22.7ms\n",
            "video 1/1 (28/160) /content/drive/MyDrive/unitedvsvilla720p.mp4: 384x640 15 persons, 21.8ms\n",
            "video 1/1 (29/160) /content/drive/MyDrive/unitedvsvilla720p.mp4: 384x640 15 persons, 20.8ms\n",
            "video 1/1 (30/160) /content/drive/MyDrive/unitedvsvilla720p.mp4: 384x640 15 persons, 21.7ms\n",
            "video 1/1 (31/160) /content/drive/MyDrive/unitedvsvilla720p.mp4: 384x640 15 persons, 22.3ms\n",
            "video 1/1 (32/160) /content/drive/MyDrive/unitedvsvilla720p.mp4: 384x640 15 persons, 26.1ms\n",
            "video 1/1 (33/160) /content/drive/MyDrive/unitedvsvilla720p.mp4: 384x640 15 persons, 22.2ms\n",
            "video 1/1 (34/160) /content/drive/MyDrive/unitedvsvilla720p.mp4: 384x640 15 persons, 20.2ms\n",
            "video 1/1 (35/160) /content/drive/MyDrive/unitedvsvilla720p.mp4: 384x640 15 persons, 21.4ms\n",
            "video 1/1 (36/160) /content/drive/MyDrive/unitedvsvilla720p.mp4: 384x640 15 persons, 38.4ms\n",
            "video 1/1 (37/160) /content/drive/MyDrive/unitedvsvilla720p.mp4: 384x640 15 persons, 29.5ms\n",
            "video 1/1 (38/160) /content/drive/MyDrive/unitedvsvilla720p.mp4: 384x640 15 persons, 24.6ms\n",
            "video 1/1 (39/160) /content/drive/MyDrive/unitedvsvilla720p.mp4: 384x640 15 persons, 29.8ms\n",
            "video 1/1 (40/160) /content/drive/MyDrive/unitedvsvilla720p.mp4: 384x640 15 persons, 21.2ms\n",
            "video 1/1 (41/160) /content/drive/MyDrive/unitedvsvilla720p.mp4: 384x640 15 persons, 22.8ms\n",
            "video 1/1 (42/160) /content/drive/MyDrive/unitedvsvilla720p.mp4: 384x640 15 persons, 21.8ms\n",
            "video 1/1 (43/160) /content/drive/MyDrive/unitedvsvilla720p.mp4: 384x640 15 persons, 24.0ms\n",
            "video 1/1 (44/160) /content/drive/MyDrive/unitedvsvilla720p.mp4: 384x640 15 persons, 24.3ms\n",
            "video 1/1 (45/160) /content/drive/MyDrive/unitedvsvilla720p.mp4: 384x640 15 persons, 24.0ms\n",
            "video 1/1 (46/160) /content/drive/MyDrive/unitedvsvilla720p.mp4: 384x640 15 persons, 24.0ms\n",
            "video 1/1 (47/160) /content/drive/MyDrive/unitedvsvilla720p.mp4: 384x640 15 persons, 25.4ms\n",
            "video 1/1 (48/160) /content/drive/MyDrive/unitedvsvilla720p.mp4: 384x640 15 persons, 26.6ms\n",
            "video 1/1 (49/160) /content/drive/MyDrive/unitedvsvilla720p.mp4: 384x640 15 persons, 24.6ms\n",
            "video 1/1 (50/160) /content/drive/MyDrive/unitedvsvilla720p.mp4: 384x640 15 persons, 27.3ms\n",
            "video 1/1 (51/160) /content/drive/MyDrive/unitedvsvilla720p.mp4: 384x640 15 persons, 35.9ms\n",
            "video 1/1 (52/160) /content/drive/MyDrive/unitedvsvilla720p.mp4: 384x640 15 persons, 25.0ms\n",
            "video 1/1 (53/160) /content/drive/MyDrive/unitedvsvilla720p.mp4: 384x640 15 persons, 28.3ms\n",
            "video 1/1 (54/160) /content/drive/MyDrive/unitedvsvilla720p.mp4: 384x640 15 persons, 28.6ms\n",
            "video 1/1 (55/160) /content/drive/MyDrive/unitedvsvilla720p.mp4: 384x640 15 persons, 37.9ms\n",
            "video 1/1 (56/160) /content/drive/MyDrive/unitedvsvilla720p.mp4: 384x640 15 persons, 33.3ms\n",
            "video 1/1 (57/160) /content/drive/MyDrive/unitedvsvilla720p.mp4: 384x640 15 persons, 25.8ms\n",
            "video 1/1 (58/160) /content/drive/MyDrive/unitedvsvilla720p.mp4: 384x640 15 persons, 27.9ms\n",
            "video 1/1 (59/160) /content/drive/MyDrive/unitedvsvilla720p.mp4: 384x640 15 persons, 30.7ms\n",
            "video 1/1 (60/160) /content/drive/MyDrive/unitedvsvilla720p.mp4: 384x640 15 persons, 27.1ms\n",
            "video 1/1 (61/160) /content/drive/MyDrive/unitedvsvilla720p.mp4: 384x640 15 persons, 32.3ms\n",
            "video 1/1 (62/160) /content/drive/MyDrive/unitedvsvilla720p.mp4: 384x640 15 persons, 30.7ms\n",
            "video 1/1 (63/160) /content/drive/MyDrive/unitedvsvilla720p.mp4: 384x640 15 persons, 32.4ms\n",
            "video 1/1 (64/160) /content/drive/MyDrive/unitedvsvilla720p.mp4: 384x640 15 persons, 25.6ms\n",
            "video 1/1 (65/160) /content/drive/MyDrive/unitedvsvilla720p.mp4: 384x640 15 persons, 26.5ms\n",
            "video 1/1 (66/160) /content/drive/MyDrive/unitedvsvilla720p.mp4: 384x640 15 persons, 25.5ms\n",
            "video 1/1 (67/160) /content/drive/MyDrive/unitedvsvilla720p.mp4: 384x640 15 persons, 26.5ms\n",
            "video 1/1 (68/160) /content/drive/MyDrive/unitedvsvilla720p.mp4: 384x640 15 persons, 24.7ms\n",
            "video 1/1 (69/160) /content/drive/MyDrive/unitedvsvilla720p.mp4: 384x640 15 persons, 24.5ms\n",
            "video 1/1 (70/160) /content/drive/MyDrive/unitedvsvilla720p.mp4: 384x640 15 persons, 24.6ms\n",
            "video 1/1 (71/160) /content/drive/MyDrive/unitedvsvilla720p.mp4: 384x640 15 persons, 24.5ms\n",
            "video 1/1 (72/160) /content/drive/MyDrive/unitedvsvilla720p.mp4: 384x640 15 persons, 20.8ms\n",
            "video 1/1 (73/160) /content/drive/MyDrive/unitedvsvilla720p.mp4: 384x640 15 persons, 20.6ms\n",
            "video 1/1 (74/160) /content/drive/MyDrive/unitedvsvilla720p.mp4: 384x640 15 persons, 20.7ms\n",
            "video 1/1 (75/160) /content/drive/MyDrive/unitedvsvilla720p.mp4: 384x640 14 persons, 20.7ms\n",
            "video 1/1 (76/160) /content/drive/MyDrive/unitedvsvilla720p.mp4: 384x640 14 persons, 20.5ms\n",
            "video 1/1 (77/160) /content/drive/MyDrive/unitedvsvilla720p.mp4: 384x640 14 persons, 20.3ms\n",
            "video 1/1 (78/160) /content/drive/MyDrive/unitedvsvilla720p.mp4: 384x640 13 persons, 20.3ms\n",
            "video 1/1 (79/160) /content/drive/MyDrive/unitedvsvilla720p.mp4: 384x640 12 persons, 20.4ms\n",
            "video 1/1 (80/160) /content/drive/MyDrive/unitedvsvilla720p.mp4: 384x640 13 persons, 19.9ms\n",
            "video 1/1 (81/160) /content/drive/MyDrive/unitedvsvilla720p.mp4: 384x640 12 persons, 20.1ms\n",
            "video 1/1 (82/160) /content/drive/MyDrive/unitedvsvilla720p.mp4: 384x640 13 persons, 19.9ms\n",
            "video 1/1 (83/160) /content/drive/MyDrive/unitedvsvilla720p.mp4: 384x640 13 persons, 20.1ms\n",
            "video 1/1 (84/160) /content/drive/MyDrive/unitedvsvilla720p.mp4: 384x640 13 persons, 22.4ms\n",
            "video 1/1 (85/160) /content/drive/MyDrive/unitedvsvilla720p.mp4: 384x640 13 persons, 21.1ms\n",
            "video 1/1 (86/160) /content/drive/MyDrive/unitedvsvilla720p.mp4: 384x640 13 persons, 20.1ms\n",
            "video 1/1 (87/160) /content/drive/MyDrive/unitedvsvilla720p.mp4: 384x640 13 persons, 20.5ms\n",
            "video 1/1 (88/160) /content/drive/MyDrive/unitedvsvilla720p.mp4: 384x640 14 persons, 20.1ms\n",
            "video 1/1 (89/160) /content/drive/MyDrive/unitedvsvilla720p.mp4: 384x640 14 persons, 20.6ms\n",
            "video 1/1 (90/160) /content/drive/MyDrive/unitedvsvilla720p.mp4: 384x640 14 persons, 20.1ms\n",
            "video 1/1 (91/160) /content/drive/MyDrive/unitedvsvilla720p.mp4: 384x640 13 persons, 20.6ms\n",
            "video 1/1 (92/160) /content/drive/MyDrive/unitedvsvilla720p.mp4: 384x640 13 persons, 19.9ms\n",
            "video 1/1 (93/160) /content/drive/MyDrive/unitedvsvilla720p.mp4: 384x640 13 persons, 20.6ms\n",
            "video 1/1 (94/160) /content/drive/MyDrive/unitedvsvilla720p.mp4: 384x640 13 persons, 20.0ms\n",
            "video 1/1 (95/160) /content/drive/MyDrive/unitedvsvilla720p.mp4: 384x640 14 persons, 19.9ms\n",
            "video 1/1 (96/160) /content/drive/MyDrive/unitedvsvilla720p.mp4: 384x640 14 persons, 20.8ms\n",
            "video 1/1 (97/160) /content/drive/MyDrive/unitedvsvilla720p.mp4: 384x640 14 persons, 22.0ms\n",
            "video 1/1 (98/160) /content/drive/MyDrive/unitedvsvilla720p.mp4: 384x640 14 persons, 20.8ms\n",
            "video 1/1 (99/160) /content/drive/MyDrive/unitedvsvilla720p.mp4: 384x640 13 persons, 20.0ms\n",
            "video 1/1 (100/160) /content/drive/MyDrive/unitedvsvilla720p.mp4: 384x640 13 persons, 19.9ms\n",
            "video 1/1 (101/160) /content/drive/MyDrive/unitedvsvilla720p.mp4: 384x640 14 persons, 21.1ms\n",
            "video 1/1 (102/160) /content/drive/MyDrive/unitedvsvilla720p.mp4: 384x640 13 persons, 20.1ms\n",
            "video 1/1 (103/160) /content/drive/MyDrive/unitedvsvilla720p.mp4: 384x640 13 persons, 21.1ms\n",
            "video 1/1 (104/160) /content/drive/MyDrive/unitedvsvilla720p.mp4: 384x640 13 persons, 19.6ms\n",
            "video 1/1 (105/160) /content/drive/MyDrive/unitedvsvilla720p.mp4: 384x640 13 persons, 25.0ms\n",
            "video 1/1 (106/160) /content/drive/MyDrive/unitedvsvilla720p.mp4: 384x640 13 persons, 19.5ms\n",
            "video 1/1 (107/160) /content/drive/MyDrive/unitedvsvilla720p.mp4: 384x640 13 persons, 20.9ms\n",
            "video 1/1 (108/160) /content/drive/MyDrive/unitedvsvilla720p.mp4: 384x640 13 persons, 20.6ms\n",
            "video 1/1 (109/160) /content/drive/MyDrive/unitedvsvilla720p.mp4: 384x640 12 persons, 19.5ms\n",
            "video 1/1 (110/160) /content/drive/MyDrive/unitedvsvilla720p.mp4: 384x640 12 persons, 19.6ms\n",
            "video 1/1 (111/160) /content/drive/MyDrive/unitedvsvilla720p.mp4: 384x640 13 persons, 19.4ms\n",
            "video 1/1 (112/160) /content/drive/MyDrive/unitedvsvilla720p.mp4: 384x640 12 persons, 22.1ms\n",
            "video 1/1 (113/160) /content/drive/MyDrive/unitedvsvilla720p.mp4: 384x640 12 persons, 20.7ms\n",
            "video 1/1 (114/160) /content/drive/MyDrive/unitedvsvilla720p.mp4: 384x640 12 persons, 19.1ms\n",
            "video 1/1 (115/160) /content/drive/MyDrive/unitedvsvilla720p.mp4: 384x640 12 persons, 18.6ms\n",
            "video 1/1 (116/160) /content/drive/MyDrive/unitedvsvilla720p.mp4: 384x640 12 persons, 20.0ms\n",
            "video 1/1 (117/160) /content/drive/MyDrive/unitedvsvilla720p.mp4: 384x640 12 persons, 20.3ms\n",
            "video 1/1 (118/160) /content/drive/MyDrive/unitedvsvilla720p.mp4: 384x640 12 persons, 19.7ms\n",
            "video 1/1 (119/160) /content/drive/MyDrive/unitedvsvilla720p.mp4: 384x640 11 persons, 20.0ms\n",
            "video 1/1 (120/160) /content/drive/MyDrive/unitedvsvilla720p.mp4: 384x640 11 persons, 18.5ms\n",
            "video 1/1 (121/160) /content/drive/MyDrive/unitedvsvilla720p.mp4: 384x640 11 persons, 19.1ms\n",
            "video 1/1 (122/160) /content/drive/MyDrive/unitedvsvilla720p.mp4: 384x640 10 persons, 18.6ms\n",
            "video 1/1 (123/160) /content/drive/MyDrive/unitedvsvilla720p.mp4: 384x640 10 persons, 18.8ms\n",
            "video 1/1 (124/160) /content/drive/MyDrive/unitedvsvilla720p.mp4: 384x640 10 persons, 18.6ms\n",
            "video 1/1 (125/160) /content/drive/MyDrive/unitedvsvilla720p.mp4: 384x640 11 persons, 18.8ms\n",
            "video 1/1 (126/160) /content/drive/MyDrive/unitedvsvilla720p.mp4: 384x640 12 persons, 17.5ms\n",
            "video 1/1 (127/160) /content/drive/MyDrive/unitedvsvilla720p.mp4: 384x640 11 persons, 20.5ms\n",
            "video 1/1 (128/160) /content/drive/MyDrive/unitedvsvilla720p.mp4: 384x640 12 persons, 18.5ms\n",
            "video 1/1 (129/160) /content/drive/MyDrive/unitedvsvilla720p.mp4: 384x640 12 persons, 19.4ms\n",
            "video 1/1 (130/160) /content/drive/MyDrive/unitedvsvilla720p.mp4: 384x640 11 persons, 17.5ms\n",
            "video 1/1 (131/160) /content/drive/MyDrive/unitedvsvilla720p.mp4: 384x640 11 persons, 19.3ms\n",
            "video 1/1 (132/160) /content/drive/MyDrive/unitedvsvilla720p.mp4: 384x640 11 persons, 17.8ms\n",
            "video 1/1 (133/160) /content/drive/MyDrive/unitedvsvilla720p.mp4: 384x640 11 persons, 17.6ms\n",
            "video 1/1 (134/160) /content/drive/MyDrive/unitedvsvilla720p.mp4: 384x640 11 persons, 19.1ms\n",
            "video 1/1 (135/160) /content/drive/MyDrive/unitedvsvilla720p.mp4: 384x640 10 persons, 17.7ms\n",
            "video 1/1 (136/160) /content/drive/MyDrive/unitedvsvilla720p.mp4: 384x640 10 persons, 17.6ms\n",
            "video 1/1 (137/160) /content/drive/MyDrive/unitedvsvilla720p.mp4: 384x640 10 persons, 18.9ms\n",
            "video 1/1 (138/160) /content/drive/MyDrive/unitedvsvilla720p.mp4: 384x640 10 persons, 17.5ms\n",
            "video 1/1 (139/160) /content/drive/MyDrive/unitedvsvilla720p.mp4: 384x640 10 persons, 16.6ms\n",
            "video 1/1 (140/160) /content/drive/MyDrive/unitedvsvilla720p.mp4: 384x640 10 persons, 18.1ms\n",
            "video 1/1 (141/160) /content/drive/MyDrive/unitedvsvilla720p.mp4: 384x640 10 persons, 17.4ms\n",
            "video 1/1 (142/160) /content/drive/MyDrive/unitedvsvilla720p.mp4: 384x640 10 persons, 20.1ms\n",
            "video 1/1 (143/160) /content/drive/MyDrive/unitedvsvilla720p.mp4: 384x640 10 persons, 18.0ms\n",
            "video 1/1 (144/160) /content/drive/MyDrive/unitedvsvilla720p.mp4: 384x640 10 persons, 20.5ms\n",
            "video 1/1 (145/160) /content/drive/MyDrive/unitedvsvilla720p.mp4: 384x640 10 persons, 17.2ms\n",
            "video 1/1 (146/160) /content/drive/MyDrive/unitedvsvilla720p.mp4: 384x640 9 persons, 24.0ms\n",
            "video 1/1 (147/160) /content/drive/MyDrive/unitedvsvilla720p.mp4: 384x640 9 persons, 17.1ms\n",
            "video 1/1 (148/160) /content/drive/MyDrive/unitedvsvilla720p.mp4: 384x640 8 persons, 16.5ms\n",
            "video 1/1 (149/160) /content/drive/MyDrive/unitedvsvilla720p.mp4: 384x640 9 persons, 25.5ms\n",
            "video 1/1 (150/160) /content/drive/MyDrive/unitedvsvilla720p.mp4: 384x640 9 persons, 20.3ms\n",
            "video 1/1 (151/160) /content/drive/MyDrive/unitedvsvilla720p.mp4: 384x640 9 persons, 22.0ms\n",
            "video 1/1 (152/160) /content/drive/MyDrive/unitedvsvilla720p.mp4: 384x640 8 persons, 17.6ms\n",
            "video 1/1 (153/160) /content/drive/MyDrive/unitedvsvilla720p.mp4: 384x640 8 persons, 22.3ms\n",
            "video 1/1 (154/160) /content/drive/MyDrive/unitedvsvilla720p.mp4: 384x640 9 persons, 16.4ms\n",
            "video 1/1 (155/160) /content/drive/MyDrive/unitedvsvilla720p.mp4: 384x640 9 persons, 16.7ms\n",
            "video 1/1 (156/160) /content/drive/MyDrive/unitedvsvilla720p.mp4: 384x640 9 persons, 16.9ms\n",
            "video 1/1 (157/160) /content/drive/MyDrive/unitedvsvilla720p.mp4: 384x640 9 persons, 17.0ms\n",
            "video 1/1 (158/160) /content/drive/MyDrive/unitedvsvilla720p.mp4: 384x640 9 persons, 17.6ms\n",
            "video 1/1 (159/160) /content/drive/MyDrive/unitedvsvilla720p.mp4: 384x640 9 persons, 18.1ms\n",
            "video 1/1 (160/160) /content/drive/MyDrive/unitedvsvilla720p.mp4: 384x640 9 persons, 23.1ms\n",
            "Speed: 1.9ms preprocess, 22.0ms inference, 1.7ms postprocess per image at shape (1, 3, 384, 640)\n",
            "Results saved to \u001b[1mruns/detect/track9\u001b[0m\n"
          ]
        }
      ]
    },
    {
      "cell_type": "code",
      "source": [
        "import matplotlib.pyplot as plt\n",
        "from tqdm.notebook import tqdm\n",
        "from glob import glob\n",
        "from random import sample\n",
        "from PIL import Image, ImageFont, ImageDraw, ImageEnhance, ImageFilter\n",
        "from pathlib import Path\n",
        "import os\n",
        "import shutil\n",
        "import numpy as np\n",
        "import cv2\n",
        "import random\n",
        "import torch\n",
        "from tensorflow.keras.preprocessing.image import array_to_img"
      ],
      "metadata": {
        "id": "eui9YgbmuH2r"
      },
      "execution_count": null,
      "outputs": []
    },
    {
      "cell_type": "code",
      "source": [
        "last_frame_index = len(results) - 1\n",
        "last_frame_boxes = results[last_frame_index].boxes.xyxy.tolist()\n",
        "print(last_frame_boxes)\n",
        "\n",
        "# Provided tap coordinates of the user on the last frame\n",
        "tap_coord = (450, 353)\n",
        "# ID of the bounding box that the user tapped on. We only need to save crops of this bounding box.\n",
        "required_track_id = None\n",
        "\n",
        "# Iterate through each box in the last_frame_boxes\n",
        "for index, box in enumerate(last_frame_boxes):\n",
        "    x_min, y_min, x_max, y_max = box  # Unpack box coordinates\n",
        "    if x_min <= tap_coord[0] <= x_max and y_min <= tap_coord[1] <= y_max:\n",
        "        # The target point is within this box\n",
        "        print(f\"Box at index {index} is within the coordinates\")\n",
        "        required_track_id = results[last_frame_index].boxes[index].id.tolist()[0]\n",
        "        print(f\"Required tracking ID is: {required_track_id}\")\n",
        "        break"
      ],
      "metadata": {
        "colab": {
          "base_uri": "https://localhost:8080/"
        },
        "id": "UY8EHDbJJIb6",
        "outputId": "3162b318-09f9-4f85-f8ca-5a6efb0bc432"
      },
      "execution_count": null,
      "outputs": [
        {
          "output_type": "stream",
          "name": "stdout",
          "text": [
            "[[584.1489868164062, 327.4786071777344, 614.4602661132812, 397.74615478515625], [786.3281860351562, 287.3955993652344, 818.7329711914062, 356.2096252441406], [856.7017822265625, 215.59715270996094, 886.5623779296875, 269.9825134277344], [1123.8258056640625, 329.0048828125, 1164.3280029296875, 401.58740234375], [867.2447509765625, 472.5174255371094, 910.713134765625, 566.4974975585938], [753.9646606445312, 251.99551391601562, 779.2638549804688, 304.7622985839844], [821.1785278320312, 234.31822204589844, 854.2954711914062, 290.9352722167969], [439.3404541015625, 332.616943359375, 474.4425048828125, 399.2972106933594], [547.2337036132812, 302.69287109375, 573.4224853515625, 361.7489929199219]]\n",
            "Box at index 7 is within the coordinates\n",
            "Required tracking ID is: 3.0\n"
          ]
        }
      ]
    },
    {
      "cell_type": "code",
      "source": [
        "model = torch.hub.load('ultralytics/yolov5', 'custom', path='/content/drive/MyDrive/yolov5ID_640_100epoch.pt')\n",
        "model.load_state_dict(torch.load('/content/drive/MyDrive/yolov5ID_640_100epoch.pt')['model'].state_dict(), strict=False)"
      ],
      "metadata": {
        "colab": {
          "base_uri": "https://localhost:8080/"
        },
        "id": "S67qpUCDgc_T",
        "outputId": "0d58f008-591d-46bc-8ae9-39fd603bec63"
      },
      "execution_count": null,
      "outputs": [
        {
          "output_type": "stream",
          "name": "stderr",
          "text": [
            "Using cache found in /root/.cache/torch/hub/ultralytics_yolov5_master\n",
            "YOLOv5 🚀 2024-2-7 Python-3.10.12 torch-2.1.0+cu121 CUDA:0 (Tesla T4, 15102MiB)\n",
            "\n",
            "Fusing layers... \n",
            "YOLOv5s summary: 213 layers, 7279825 parameters, 0 gradients, 16.6 GFLOPs\n",
            "Adding AutoShape... \n"
          ]
        },
        {
          "output_type": "execute_result",
          "data": {
            "text/plain": [
              "_IncompatibleKeys(missing_keys=['model.model.model.0.conv.weight', 'model.model.model.0.conv.bias', 'model.model.model.1.conv.weight', 'model.model.model.1.conv.bias', 'model.model.model.2.cv1.conv.weight', 'model.model.model.2.cv1.conv.bias', 'model.model.model.2.cv2.conv.weight', 'model.model.model.2.cv2.conv.bias', 'model.model.model.2.cv3.conv.weight', 'model.model.model.2.cv3.conv.bias', 'model.model.model.2.m.0.cv1.conv.weight', 'model.model.model.2.m.0.cv1.conv.bias', 'model.model.model.2.m.0.cv2.conv.weight', 'model.model.model.2.m.0.cv2.conv.bias', 'model.model.model.3.conv.weight', 'model.model.model.3.conv.bias', 'model.model.model.4.cv1.conv.weight', 'model.model.model.4.cv1.conv.bias', 'model.model.model.4.cv2.conv.weight', 'model.model.model.4.cv2.conv.bias', 'model.model.model.4.cv3.conv.weight', 'model.model.model.4.cv3.conv.bias', 'model.model.model.4.m.0.cv1.conv.weight', 'model.model.model.4.m.0.cv1.conv.bias', 'model.model.model.4.m.0.cv2.conv.weight', 'model.model.model.4.m.0.cv2.conv.bias', 'model.model.model.4.m.1.cv1.conv.weight', 'model.model.model.4.m.1.cv1.conv.bias', 'model.model.model.4.m.1.cv2.conv.weight', 'model.model.model.4.m.1.cv2.conv.bias', 'model.model.model.5.conv.weight', 'model.model.model.5.conv.bias', 'model.model.model.6.cv1.conv.weight', 'model.model.model.6.cv1.conv.bias', 'model.model.model.6.cv2.conv.weight', 'model.model.model.6.cv2.conv.bias', 'model.model.model.6.cv3.conv.weight', 'model.model.model.6.cv3.conv.bias', 'model.model.model.6.m.0.cv1.conv.weight', 'model.model.model.6.m.0.cv1.conv.bias', 'model.model.model.6.m.0.cv2.conv.weight', 'model.model.model.6.m.0.cv2.conv.bias', 'model.model.model.6.m.1.cv1.conv.weight', 'model.model.model.6.m.1.cv1.conv.bias', 'model.model.model.6.m.1.cv2.conv.weight', 'model.model.model.6.m.1.cv2.conv.bias', 'model.model.model.6.m.2.cv1.conv.weight', 'model.model.model.6.m.2.cv1.conv.bias', 'model.model.model.6.m.2.cv2.conv.weight', 'model.model.model.6.m.2.cv2.conv.bias', 'model.model.model.7.conv.weight', 'model.model.model.7.conv.bias', 'model.model.model.8.cv1.conv.weight', 'model.model.model.8.cv1.conv.bias', 'model.model.model.8.cv2.conv.weight', 'model.model.model.8.cv2.conv.bias', 'model.model.model.8.cv3.conv.weight', 'model.model.model.8.cv3.conv.bias', 'model.model.model.8.m.0.cv1.conv.weight', 'model.model.model.8.m.0.cv1.conv.bias', 'model.model.model.8.m.0.cv2.conv.weight', 'model.model.model.8.m.0.cv2.conv.bias', 'model.model.model.9.cv1.conv.weight', 'model.model.model.9.cv1.conv.bias', 'model.model.model.9.cv2.conv.weight', 'model.model.model.9.cv2.conv.bias', 'model.model.model.10.conv.weight', 'model.model.model.10.conv.bias', 'model.model.model.13.cv1.conv.weight', 'model.model.model.13.cv1.conv.bias', 'model.model.model.13.cv2.conv.weight', 'model.model.model.13.cv2.conv.bias', 'model.model.model.13.cv3.conv.weight', 'model.model.model.13.cv3.conv.bias', 'model.model.model.13.m.0.cv1.conv.weight', 'model.model.model.13.m.0.cv1.conv.bias', 'model.model.model.13.m.0.cv2.conv.weight', 'model.model.model.13.m.0.cv2.conv.bias', 'model.model.model.14.conv.weight', 'model.model.model.14.conv.bias', 'model.model.model.17.cv1.conv.weight', 'model.model.model.17.cv1.conv.bias', 'model.model.model.17.cv2.conv.weight', 'model.model.model.17.cv2.conv.bias', 'model.model.model.17.cv3.conv.weight', 'model.model.model.17.cv3.conv.bias', 'model.model.model.17.m.0.cv1.conv.weight', 'model.model.model.17.m.0.cv1.conv.bias', 'model.model.model.17.m.0.cv2.conv.weight', 'model.model.model.17.m.0.cv2.conv.bias', 'model.model.model.18.conv.weight', 'model.model.model.18.conv.bias', 'model.model.model.20.cv1.conv.weight', 'model.model.model.20.cv1.conv.bias', 'model.model.model.20.cv2.conv.weight', 'model.model.model.20.cv2.conv.bias', 'model.model.model.20.cv3.conv.weight', 'model.model.model.20.cv3.conv.bias', 'model.model.model.20.m.0.cv1.conv.weight', 'model.model.model.20.m.0.cv1.conv.bias', 'model.model.model.20.m.0.cv2.conv.weight', 'model.model.model.20.m.0.cv2.conv.bias', 'model.model.model.21.conv.weight', 'model.model.model.21.conv.bias', 'model.model.model.23.cv1.conv.weight', 'model.model.model.23.cv1.conv.bias', 'model.model.model.23.cv2.conv.weight', 'model.model.model.23.cv2.conv.bias', 'model.model.model.23.cv3.conv.weight', 'model.model.model.23.cv3.conv.bias', 'model.model.model.23.m.0.cv1.conv.weight', 'model.model.model.23.m.0.cv1.conv.bias', 'model.model.model.23.m.0.cv2.conv.weight', 'model.model.model.23.m.0.cv2.conv.bias', 'model.model.model.24.anchors', 'model.model.model.24.m.0.weight', 'model.model.model.24.m.0.bias', 'model.model.model.24.m.1.weight', 'model.model.model.24.m.1.bias', 'model.model.model.24.m.2.weight', 'model.model.model.24.m.2.bias'], unexpected_keys=['model.0.conv.weight', 'model.0.bn.weight', 'model.0.bn.bias', 'model.0.bn.running_mean', 'model.0.bn.running_var', 'model.0.bn.num_batches_tracked', 'model.1.conv.weight', 'model.1.bn.weight', 'model.1.bn.bias', 'model.1.bn.running_mean', 'model.1.bn.running_var', 'model.1.bn.num_batches_tracked', 'model.2.cv1.conv.weight', 'model.2.cv1.bn.weight', 'model.2.cv1.bn.bias', 'model.2.cv1.bn.running_mean', 'model.2.cv1.bn.running_var', 'model.2.cv1.bn.num_batches_tracked', 'model.2.cv2.conv.weight', 'model.2.cv2.bn.weight', 'model.2.cv2.bn.bias', 'model.2.cv2.bn.running_mean', 'model.2.cv2.bn.running_var', 'model.2.cv2.bn.num_batches_tracked', 'model.2.cv3.conv.weight', 'model.2.cv3.bn.weight', 'model.2.cv3.bn.bias', 'model.2.cv3.bn.running_mean', 'model.2.cv3.bn.running_var', 'model.2.cv3.bn.num_batches_tracked', 'model.2.m.0.cv1.conv.weight', 'model.2.m.0.cv1.bn.weight', 'model.2.m.0.cv1.bn.bias', 'model.2.m.0.cv1.bn.running_mean', 'model.2.m.0.cv1.bn.running_var', 'model.2.m.0.cv1.bn.num_batches_tracked', 'model.2.m.0.cv2.conv.weight', 'model.2.m.0.cv2.bn.weight', 'model.2.m.0.cv2.bn.bias', 'model.2.m.0.cv2.bn.running_mean', 'model.2.m.0.cv2.bn.running_var', 'model.2.m.0.cv2.bn.num_batches_tracked', 'model.3.conv.weight', 'model.3.bn.weight', 'model.3.bn.bias', 'model.3.bn.running_mean', 'model.3.bn.running_var', 'model.3.bn.num_batches_tracked', 'model.4.cv1.conv.weight', 'model.4.cv1.bn.weight', 'model.4.cv1.bn.bias', 'model.4.cv1.bn.running_mean', 'model.4.cv1.bn.running_var', 'model.4.cv1.bn.num_batches_tracked', 'model.4.cv2.conv.weight', 'model.4.cv2.bn.weight', 'model.4.cv2.bn.bias', 'model.4.cv2.bn.running_mean', 'model.4.cv2.bn.running_var', 'model.4.cv2.bn.num_batches_tracked', 'model.4.cv3.conv.weight', 'model.4.cv3.bn.weight', 'model.4.cv3.bn.bias', 'model.4.cv3.bn.running_mean', 'model.4.cv3.bn.running_var', 'model.4.cv3.bn.num_batches_tracked', 'model.4.m.0.cv1.conv.weight', 'model.4.m.0.cv1.bn.weight', 'model.4.m.0.cv1.bn.bias', 'model.4.m.0.cv1.bn.running_mean', 'model.4.m.0.cv1.bn.running_var', 'model.4.m.0.cv1.bn.num_batches_tracked', 'model.4.m.0.cv2.conv.weight', 'model.4.m.0.cv2.bn.weight', 'model.4.m.0.cv2.bn.bias', 'model.4.m.0.cv2.bn.running_mean', 'model.4.m.0.cv2.bn.running_var', 'model.4.m.0.cv2.bn.num_batches_tracked', 'model.4.m.1.cv1.conv.weight', 'model.4.m.1.cv1.bn.weight', 'model.4.m.1.cv1.bn.bias', 'model.4.m.1.cv1.bn.running_mean', 'model.4.m.1.cv1.bn.running_var', 'model.4.m.1.cv1.bn.num_batches_tracked', 'model.4.m.1.cv2.conv.weight', 'model.4.m.1.cv2.bn.weight', 'model.4.m.1.cv2.bn.bias', 'model.4.m.1.cv2.bn.running_mean', 'model.4.m.1.cv2.bn.running_var', 'model.4.m.1.cv2.bn.num_batches_tracked', 'model.5.conv.weight', 'model.5.bn.weight', 'model.5.bn.bias', 'model.5.bn.running_mean', 'model.5.bn.running_var', 'model.5.bn.num_batches_tracked', 'model.6.cv1.conv.weight', 'model.6.cv1.bn.weight', 'model.6.cv1.bn.bias', 'model.6.cv1.bn.running_mean', 'model.6.cv1.bn.running_var', 'model.6.cv1.bn.num_batches_tracked', 'model.6.cv2.conv.weight', 'model.6.cv2.bn.weight', 'model.6.cv2.bn.bias', 'model.6.cv2.bn.running_mean', 'model.6.cv2.bn.running_var', 'model.6.cv2.bn.num_batches_tracked', 'model.6.cv3.conv.weight', 'model.6.cv3.bn.weight', 'model.6.cv3.bn.bias', 'model.6.cv3.bn.running_mean', 'model.6.cv3.bn.running_var', 'model.6.cv3.bn.num_batches_tracked', 'model.6.m.0.cv1.conv.weight', 'model.6.m.0.cv1.bn.weight', 'model.6.m.0.cv1.bn.bias', 'model.6.m.0.cv1.bn.running_mean', 'model.6.m.0.cv1.bn.running_var', 'model.6.m.0.cv1.bn.num_batches_tracked', 'model.6.m.0.cv2.conv.weight', 'model.6.m.0.cv2.bn.weight', 'model.6.m.0.cv2.bn.bias', 'model.6.m.0.cv2.bn.running_mean', 'model.6.m.0.cv2.bn.running_var', 'model.6.m.0.cv2.bn.num_batches_tracked', 'model.6.m.1.cv1.conv.weight', 'model.6.m.1.cv1.bn.weight', 'model.6.m.1.cv1.bn.bias', 'model.6.m.1.cv1.bn.running_mean', 'model.6.m.1.cv1.bn.running_var', 'model.6.m.1.cv1.bn.num_batches_tracked', 'model.6.m.1.cv2.conv.weight', 'model.6.m.1.cv2.bn.weight', 'model.6.m.1.cv2.bn.bias', 'model.6.m.1.cv2.bn.running_mean', 'model.6.m.1.cv2.bn.running_var', 'model.6.m.1.cv2.bn.num_batches_tracked', 'model.6.m.2.cv1.conv.weight', 'model.6.m.2.cv1.bn.weight', 'model.6.m.2.cv1.bn.bias', 'model.6.m.2.cv1.bn.running_mean', 'model.6.m.2.cv1.bn.running_var', 'model.6.m.2.cv1.bn.num_batches_tracked', 'model.6.m.2.cv2.conv.weight', 'model.6.m.2.cv2.bn.weight', 'model.6.m.2.cv2.bn.bias', 'model.6.m.2.cv2.bn.running_mean', 'model.6.m.2.cv2.bn.running_var', 'model.6.m.2.cv2.bn.num_batches_tracked', 'model.7.conv.weight', 'model.7.bn.weight', 'model.7.bn.bias', 'model.7.bn.running_mean', 'model.7.bn.running_var', 'model.7.bn.num_batches_tracked', 'model.8.cv1.conv.weight', 'model.8.cv1.bn.weight', 'model.8.cv1.bn.bias', 'model.8.cv1.bn.running_mean', 'model.8.cv1.bn.running_var', 'model.8.cv1.bn.num_batches_tracked', 'model.8.cv2.conv.weight', 'model.8.cv2.bn.weight', 'model.8.cv2.bn.bias', 'model.8.cv2.bn.running_mean', 'model.8.cv2.bn.running_var', 'model.8.cv2.bn.num_batches_tracked', 'model.8.cv3.conv.weight', 'model.8.cv3.bn.weight', 'model.8.cv3.bn.bias', 'model.8.cv3.bn.running_mean', 'model.8.cv3.bn.running_var', 'model.8.cv3.bn.num_batches_tracked', 'model.8.m.0.cv1.conv.weight', 'model.8.m.0.cv1.bn.weight', 'model.8.m.0.cv1.bn.bias', 'model.8.m.0.cv1.bn.running_mean', 'model.8.m.0.cv1.bn.running_var', 'model.8.m.0.cv1.bn.num_batches_tracked', 'model.8.m.0.cv2.conv.weight', 'model.8.m.0.cv2.bn.weight', 'model.8.m.0.cv2.bn.bias', 'model.8.m.0.cv2.bn.running_mean', 'model.8.m.0.cv2.bn.running_var', 'model.8.m.0.cv2.bn.num_batches_tracked', 'model.9.cv1.conv.weight', 'model.9.cv1.bn.weight', 'model.9.cv1.bn.bias', 'model.9.cv1.bn.running_mean', 'model.9.cv1.bn.running_var', 'model.9.cv1.bn.num_batches_tracked', 'model.9.cv2.conv.weight', 'model.9.cv2.bn.weight', 'model.9.cv2.bn.bias', 'model.9.cv2.bn.running_mean', 'model.9.cv2.bn.running_var', 'model.9.cv2.bn.num_batches_tracked', 'model.10.conv.weight', 'model.10.bn.weight', 'model.10.bn.bias', 'model.10.bn.running_mean', 'model.10.bn.running_var', 'model.10.bn.num_batches_tracked', 'model.13.cv1.conv.weight', 'model.13.cv1.bn.weight', 'model.13.cv1.bn.bias', 'model.13.cv1.bn.running_mean', 'model.13.cv1.bn.running_var', 'model.13.cv1.bn.num_batches_tracked', 'model.13.cv2.conv.weight', 'model.13.cv2.bn.weight', 'model.13.cv2.bn.bias', 'model.13.cv2.bn.running_mean', 'model.13.cv2.bn.running_var', 'model.13.cv2.bn.num_batches_tracked', 'model.13.cv3.conv.weight', 'model.13.cv3.bn.weight', 'model.13.cv3.bn.bias', 'model.13.cv3.bn.running_mean', 'model.13.cv3.bn.running_var', 'model.13.cv3.bn.num_batches_tracked', 'model.13.m.0.cv1.conv.weight', 'model.13.m.0.cv1.bn.weight', 'model.13.m.0.cv1.bn.bias', 'model.13.m.0.cv1.bn.running_mean', 'model.13.m.0.cv1.bn.running_var', 'model.13.m.0.cv1.bn.num_batches_tracked', 'model.13.m.0.cv2.conv.weight', 'model.13.m.0.cv2.bn.weight', 'model.13.m.0.cv2.bn.bias', 'model.13.m.0.cv2.bn.running_mean', 'model.13.m.0.cv2.bn.running_var', 'model.13.m.0.cv2.bn.num_batches_tracked', 'model.14.conv.weight', 'model.14.bn.weight', 'model.14.bn.bias', 'model.14.bn.running_mean', 'model.14.bn.running_var', 'model.14.bn.num_batches_tracked', 'model.17.cv1.conv.weight', 'model.17.cv1.bn.weight', 'model.17.cv1.bn.bias', 'model.17.cv1.bn.running_mean', 'model.17.cv1.bn.running_var', 'model.17.cv1.bn.num_batches_tracked', 'model.17.cv2.conv.weight', 'model.17.cv2.bn.weight', 'model.17.cv2.bn.bias', 'model.17.cv2.bn.running_mean', 'model.17.cv2.bn.running_var', 'model.17.cv2.bn.num_batches_tracked', 'model.17.cv3.conv.weight', 'model.17.cv3.bn.weight', 'model.17.cv3.bn.bias', 'model.17.cv3.bn.running_mean', 'model.17.cv3.bn.running_var', 'model.17.cv3.bn.num_batches_tracked', 'model.17.m.0.cv1.conv.weight', 'model.17.m.0.cv1.bn.weight', 'model.17.m.0.cv1.bn.bias', 'model.17.m.0.cv1.bn.running_mean', 'model.17.m.0.cv1.bn.running_var', 'model.17.m.0.cv1.bn.num_batches_tracked', 'model.17.m.0.cv2.conv.weight', 'model.17.m.0.cv2.bn.weight', 'model.17.m.0.cv2.bn.bias', 'model.17.m.0.cv2.bn.running_mean', 'model.17.m.0.cv2.bn.running_var', 'model.17.m.0.cv2.bn.num_batches_tracked', 'model.18.conv.weight', 'model.18.bn.weight', 'model.18.bn.bias', 'model.18.bn.running_mean', 'model.18.bn.running_var', 'model.18.bn.num_batches_tracked', 'model.20.cv1.conv.weight', 'model.20.cv1.bn.weight', 'model.20.cv1.bn.bias', 'model.20.cv1.bn.running_mean', 'model.20.cv1.bn.running_var', 'model.20.cv1.bn.num_batches_tracked', 'model.20.cv2.conv.weight', 'model.20.cv2.bn.weight', 'model.20.cv2.bn.bias', 'model.20.cv2.bn.running_mean', 'model.20.cv2.bn.running_var', 'model.20.cv2.bn.num_batches_tracked', 'model.20.cv3.conv.weight', 'model.20.cv3.bn.weight', 'model.20.cv3.bn.bias', 'model.20.cv3.bn.running_mean', 'model.20.cv3.bn.running_var', 'model.20.cv3.bn.num_batches_tracked', 'model.20.m.0.cv1.conv.weight', 'model.20.m.0.cv1.bn.weight', 'model.20.m.0.cv1.bn.bias', 'model.20.m.0.cv1.bn.running_mean', 'model.20.m.0.cv1.bn.running_var', 'model.20.m.0.cv1.bn.num_batches_tracked', 'model.20.m.0.cv2.conv.weight', 'model.20.m.0.cv2.bn.weight', 'model.20.m.0.cv2.bn.bias', 'model.20.m.0.cv2.bn.running_mean', 'model.20.m.0.cv2.bn.running_var', 'model.20.m.0.cv2.bn.num_batches_tracked', 'model.21.conv.weight', 'model.21.bn.weight', 'model.21.bn.bias', 'model.21.bn.running_mean', 'model.21.bn.running_var', 'model.21.bn.num_batches_tracked', 'model.23.cv1.conv.weight', 'model.23.cv1.bn.weight', 'model.23.cv1.bn.bias', 'model.23.cv1.bn.running_mean', 'model.23.cv1.bn.running_var', 'model.23.cv1.bn.num_batches_tracked', 'model.23.cv2.conv.weight', 'model.23.cv2.bn.weight', 'model.23.cv2.bn.bias', 'model.23.cv2.bn.running_mean', 'model.23.cv2.bn.running_var', 'model.23.cv2.bn.num_batches_tracked', 'model.23.cv3.conv.weight', 'model.23.cv3.bn.weight', 'model.23.cv3.bn.bias', 'model.23.cv3.bn.running_mean', 'model.23.cv3.bn.running_var', 'model.23.cv3.bn.num_batches_tracked', 'model.23.m.0.cv1.conv.weight', 'model.23.m.0.cv1.bn.weight', 'model.23.m.0.cv1.bn.bias', 'model.23.m.0.cv1.bn.running_mean', 'model.23.m.0.cv1.bn.running_var', 'model.23.m.0.cv1.bn.num_batches_tracked', 'model.23.m.0.cv2.conv.weight', 'model.23.m.0.cv2.bn.weight', 'model.23.m.0.cv2.bn.bias', 'model.23.m.0.cv2.bn.running_mean', 'model.23.m.0.cv2.bn.running_var', 'model.23.m.0.cv2.bn.num_batches_tracked', 'model.24.anchors', 'model.24.m.0.weight', 'model.24.m.0.bias', 'model.24.m.1.weight', 'model.24.m.1.bias', 'model.24.m.2.weight', 'model.24.m.2.bias'])"
            ]
          },
          "metadata": {},
          "execution_count": 215
        }
      ]
    },
    {
      "cell_type": "code",
      "source": [
        "# Specify the path to the folder where you want to save the cropped images\n",
        "output_folder = '/content/cropped_images/'\n",
        "\n",
        "# Create the folder if it doesn't exist\n",
        "if os.path.exists(output_folder):\n",
        "    shutil.rmtree(output_folder)\n",
        "os.makedirs(output_folder)"
      ],
      "metadata": {
        "id": "tYwmU4qreaXn"
      },
      "execution_count": null,
      "outputs": []
    },
    {
      "cell_type": "code",
      "source": [
        "def yolov5(img):\n",
        "    im = array_to_img(img)\n",
        "    output = model(im)\n",
        "    results = output.pandas().xyxy[0].to_dict(orient=\"records\")\n",
        "    for result in results:\n",
        "        con = result['confidence']\n",
        "        cs = result['class']\n",
        "        return cs"
      ],
      "metadata": {
        "id": "vsxPe1hUhiXx"
      },
      "execution_count": null,
      "outputs": []
    },
    {
      "cell_type": "code",
      "source": [
        "image_paths = []\n",
        "\n",
        "for result_index, result in enumerate(results):\n",
        "    # Iterate through all boxes in the current frame\n",
        "    for box_index, box in enumerate(result.boxes):\n",
        "        current_track_id = box.id.tolist()[0]\n",
        "\n",
        "        # Check if the box's ID matches the required_track_id\n",
        "        if current_track_id == required_track_id:\n",
        "\n",
        "            # Get the box coordinates\n",
        "            x_min, y_min, x_max, y_max = box.xyxy.tolist()[0]\n",
        "            orig_img_bgr = result.orig_img\n",
        "\n",
        "            # Convert BGR to RGB\n",
        "            orig_img_rgb = cv2.cvtColor(orig_img_bgr, cv2.COLOR_BGR2RGB)\n",
        "\n",
        "            # Create PIL Image from RGB array\n",
        "            orig_img = Image.fromarray(orig_img_rgb)\n",
        "\n",
        "            # Crop the image using adjusted box coordinates\n",
        "            cropped_img = orig_img.crop((x_min, y_min, x_max, y_max))\n",
        "\n",
        "            # Increase the size of the cropped image\n",
        "            enlarged_size = (cropped_img.width * 2, cropped_img.height * 2)\n",
        "            cropped_img = cropped_img.resize(enlarged_size, Image.BICUBIC)\n",
        "\n",
        "            # Sharpen the image\n",
        "            cropped_img_sharpened = cropped_img.filter(ImageFilter.SHARPEN)\n",
        "            cropped_img_sharpened = cropped_img_sharpened.filter(ImageFilter.SHARPEN)\n",
        "\n",
        "            # Save the sharpened and enlarged image to the specified folder\n",
        "            image_filename = f'cropped_image_{result_index}_box_{box_index}_sharpened.png'\n",
        "            image_path = os.path.join(output_folder, image_filename)\n",
        "            cropped_img_sharpened.save(image_path)\n",
        "\n",
        "            image_paths.append(image_path)\n"
      ],
      "metadata": {
        "id": "fsy1qXuuejrO"
      },
      "execution_count": null,
      "outputs": []
    },
    {
      "cell_type": "code",
      "source": [
        "num_dict = {}\n",
        "\n",
        "for path in image_paths:\n",
        "  img = cv2.imread(path)\n",
        "  num = yolov5(img)\n",
        "  if num is not None:\n",
        "    if num not in num_dict:\n",
        "      num_dict[num] = 1\n",
        "    else:\n",
        "      num_dict[num] += 1\n",
        "  #print(f\"Detected Jersey Number: {num}\")\n",
        "\n",
        "print(num_dict)\n",
        "print(\"Jersey number is: \", max(num_dict, key=num_dict.get))"
      ],
      "metadata": {
        "colab": {
          "base_uri": "https://localhost:8080/"
        },
        "id": "Lx0Pv88MpqhF",
        "outputId": "4024a095-0588-41ad-e6a7-daaf93438ff2"
      },
      "execution_count": null,
      "outputs": [
        {
          "output_type": "stream",
          "name": "stdout",
          "text": [
            "{10: 4, 13: 2, 33: 1, 38: 1}\n",
            "Jersey number is:  10\n"
          ]
        }
      ]
    }
  ]
}